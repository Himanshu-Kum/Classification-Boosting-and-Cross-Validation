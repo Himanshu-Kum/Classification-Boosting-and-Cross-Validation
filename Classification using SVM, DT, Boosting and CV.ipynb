{
 "cells": [
  {
   "cell_type": "code",
   "execution_count": 1,
   "metadata": {},
   "outputs": [],
   "source": [
    "import os\n",
    "import numpy as np\n",
    "import pandas as pd\n",
    "import matplotlib.pyplot as plt\n",
    "import seaborn as sns\n",
    "from sklearn.preprocessing import StandardScaler\n",
    "from sklearn.model_selection import train_test_split\n",
    "import statistics\n",
    "import math\n",
    "from sklearn.svm import SVC\n",
    "from sklearn import metrics\n",
    "from sklearn.tree import DecisionTreeClassifier\n",
    "from  scipy.io import arff\n",
    "from sklearn.ensemble import AdaBoostClassifier\n",
    "from sklearn.model_selection import cross_val_score\n",
    "import warnings\n",
    "warnings.filterwarnings(\"ignore\")\n",
    "from sklearn.model_selection import KFold\n",
    "from sklearn.preprocessing import MinMaxScaler"
   ]
  },
  {
   "cell_type": "markdown",
   "metadata": {},
   "source": [
    "# Using Runtime Dataset "
   ]
  },
  {
   "cell_type": "code",
   "execution_count": 2,
   "metadata": {},
   "outputs": [
    {
     "data": {
      "text/html": [
       "<div>\n",
       "<style scoped>\n",
       "    .dataframe tbody tr th:only-of-type {\n",
       "        vertical-align: middle;\n",
       "    }\n",
       "\n",
       "    .dataframe tbody tr th {\n",
       "        vertical-align: top;\n",
       "    }\n",
       "\n",
       "    .dataframe thead th {\n",
       "        text-align: right;\n",
       "    }\n",
       "</style>\n",
       "<table border=\"1\" class=\"dataframe\">\n",
       "  <thead>\n",
       "    <tr style=\"text-align: right;\">\n",
       "      <th></th>\n",
       "      <th>MWG</th>\n",
       "      <th>NWG</th>\n",
       "      <th>KWG</th>\n",
       "      <th>MDIMC</th>\n",
       "      <th>NDIMC</th>\n",
       "      <th>MDIMA</th>\n",
       "      <th>NDIMB</th>\n",
       "      <th>KWI</th>\n",
       "      <th>VWM</th>\n",
       "      <th>VWN</th>\n",
       "      <th>STRM</th>\n",
       "      <th>STRN</th>\n",
       "      <th>SA</th>\n",
       "      <th>SB</th>\n",
       "      <th>log_run</th>\n",
       "    </tr>\n",
       "  </thead>\n",
       "  <tbody>\n",
       "    <tr>\n",
       "      <td>0</td>\n",
       "      <td>16</td>\n",
       "      <td>16</td>\n",
       "      <td>16</td>\n",
       "      <td>8</td>\n",
       "      <td>8</td>\n",
       "      <td>8</td>\n",
       "      <td>8</td>\n",
       "      <td>2</td>\n",
       "      <td>1</td>\n",
       "      <td>1</td>\n",
       "      <td>0</td>\n",
       "      <td>0</td>\n",
       "      <td>0</td>\n",
       "      <td>0</td>\n",
       "      <td>1.0</td>\n",
       "    </tr>\n",
       "    <tr>\n",
       "      <td>1</td>\n",
       "      <td>16</td>\n",
       "      <td>16</td>\n",
       "      <td>16</td>\n",
       "      <td>8</td>\n",
       "      <td>8</td>\n",
       "      <td>8</td>\n",
       "      <td>8</td>\n",
       "      <td>2</td>\n",
       "      <td>1</td>\n",
       "      <td>1</td>\n",
       "      <td>0</td>\n",
       "      <td>0</td>\n",
       "      <td>0</td>\n",
       "      <td>1</td>\n",
       "      <td>1.0</td>\n",
       "    </tr>\n",
       "    <tr>\n",
       "      <td>2</td>\n",
       "      <td>16</td>\n",
       "      <td>16</td>\n",
       "      <td>16</td>\n",
       "      <td>8</td>\n",
       "      <td>8</td>\n",
       "      <td>8</td>\n",
       "      <td>8</td>\n",
       "      <td>2</td>\n",
       "      <td>1</td>\n",
       "      <td>1</td>\n",
       "      <td>0</td>\n",
       "      <td>0</td>\n",
       "      <td>1</td>\n",
       "      <td>0</td>\n",
       "      <td>1.0</td>\n",
       "    </tr>\n",
       "    <tr>\n",
       "      <td>3</td>\n",
       "      <td>16</td>\n",
       "      <td>16</td>\n",
       "      <td>16</td>\n",
       "      <td>8</td>\n",
       "      <td>8</td>\n",
       "      <td>8</td>\n",
       "      <td>8</td>\n",
       "      <td>2</td>\n",
       "      <td>1</td>\n",
       "      <td>1</td>\n",
       "      <td>0</td>\n",
       "      <td>0</td>\n",
       "      <td>1</td>\n",
       "      <td>1</td>\n",
       "      <td>1.0</td>\n",
       "    </tr>\n",
       "    <tr>\n",
       "      <td>4</td>\n",
       "      <td>16</td>\n",
       "      <td>16</td>\n",
       "      <td>16</td>\n",
       "      <td>8</td>\n",
       "      <td>8</td>\n",
       "      <td>8</td>\n",
       "      <td>8</td>\n",
       "      <td>2</td>\n",
       "      <td>1</td>\n",
       "      <td>1</td>\n",
       "      <td>0</td>\n",
       "      <td>1</td>\n",
       "      <td>0</td>\n",
       "      <td>0</td>\n",
       "      <td>1.0</td>\n",
       "    </tr>\n",
       "    <tr>\n",
       "      <td>...</td>\n",
       "      <td>...</td>\n",
       "      <td>...</td>\n",
       "      <td>...</td>\n",
       "      <td>...</td>\n",
       "      <td>...</td>\n",
       "      <td>...</td>\n",
       "      <td>...</td>\n",
       "      <td>...</td>\n",
       "      <td>...</td>\n",
       "      <td>...</td>\n",
       "      <td>...</td>\n",
       "      <td>...</td>\n",
       "      <td>...</td>\n",
       "      <td>...</td>\n",
       "      <td>...</td>\n",
       "    </tr>\n",
       "    <tr>\n",
       "      <td>241595</td>\n",
       "      <td>128</td>\n",
       "      <td>128</td>\n",
       "      <td>32</td>\n",
       "      <td>32</td>\n",
       "      <td>32</td>\n",
       "      <td>32</td>\n",
       "      <td>32</td>\n",
       "      <td>8</td>\n",
       "      <td>4</td>\n",
       "      <td>4</td>\n",
       "      <td>1</td>\n",
       "      <td>0</td>\n",
       "      <td>1</td>\n",
       "      <td>1</td>\n",
       "      <td>0.0</td>\n",
       "    </tr>\n",
       "    <tr>\n",
       "      <td>241596</td>\n",
       "      <td>128</td>\n",
       "      <td>128</td>\n",
       "      <td>32</td>\n",
       "      <td>32</td>\n",
       "      <td>32</td>\n",
       "      <td>32</td>\n",
       "      <td>32</td>\n",
       "      <td>8</td>\n",
       "      <td>4</td>\n",
       "      <td>4</td>\n",
       "      <td>1</td>\n",
       "      <td>1</td>\n",
       "      <td>0</td>\n",
       "      <td>0</td>\n",
       "      <td>0.0</td>\n",
       "    </tr>\n",
       "    <tr>\n",
       "      <td>241597</td>\n",
       "      <td>128</td>\n",
       "      <td>128</td>\n",
       "      <td>32</td>\n",
       "      <td>32</td>\n",
       "      <td>32</td>\n",
       "      <td>32</td>\n",
       "      <td>32</td>\n",
       "      <td>8</td>\n",
       "      <td>4</td>\n",
       "      <td>4</td>\n",
       "      <td>1</td>\n",
       "      <td>1</td>\n",
       "      <td>0</td>\n",
       "      <td>1</td>\n",
       "      <td>0.0</td>\n",
       "    </tr>\n",
       "    <tr>\n",
       "      <td>241598</td>\n",
       "      <td>128</td>\n",
       "      <td>128</td>\n",
       "      <td>32</td>\n",
       "      <td>32</td>\n",
       "      <td>32</td>\n",
       "      <td>32</td>\n",
       "      <td>32</td>\n",
       "      <td>8</td>\n",
       "      <td>4</td>\n",
       "      <td>4</td>\n",
       "      <td>1</td>\n",
       "      <td>1</td>\n",
       "      <td>1</td>\n",
       "      <td>0</td>\n",
       "      <td>0.0</td>\n",
       "    </tr>\n",
       "    <tr>\n",
       "      <td>241599</td>\n",
       "      <td>128</td>\n",
       "      <td>128</td>\n",
       "      <td>32</td>\n",
       "      <td>32</td>\n",
       "      <td>32</td>\n",
       "      <td>32</td>\n",
       "      <td>32</td>\n",
       "      <td>8</td>\n",
       "      <td>4</td>\n",
       "      <td>4</td>\n",
       "      <td>1</td>\n",
       "      <td>1</td>\n",
       "      <td>1</td>\n",
       "      <td>1</td>\n",
       "      <td>0.0</td>\n",
       "    </tr>\n",
       "  </tbody>\n",
       "</table>\n",
       "<p>241600 rows × 15 columns</p>\n",
       "</div>"
      ],
      "text/plain": [
       "        MWG  NWG  KWG  MDIMC  NDIMC  MDIMA  NDIMB  KWI  VWM  VWN  STRM  STRN  \\\n",
       "0        16   16   16      8      8      8      8    2    1    1     0     0   \n",
       "1        16   16   16      8      8      8      8    2    1    1     0     0   \n",
       "2        16   16   16      8      8      8      8    2    1    1     0     0   \n",
       "3        16   16   16      8      8      8      8    2    1    1     0     0   \n",
       "4        16   16   16      8      8      8      8    2    1    1     0     1   \n",
       "...     ...  ...  ...    ...    ...    ...    ...  ...  ...  ...   ...   ...   \n",
       "241595  128  128   32     32     32     32     32    8    4    4     1     0   \n",
       "241596  128  128   32     32     32     32     32    8    4    4     1     1   \n",
       "241597  128  128   32     32     32     32     32    8    4    4     1     1   \n",
       "241598  128  128   32     32     32     32     32    8    4    4     1     1   \n",
       "241599  128  128   32     32     32     32     32    8    4    4     1     1   \n",
       "\n",
       "        SA  SB  log_run  \n",
       "0        0   0      1.0  \n",
       "1        0   1      1.0  \n",
       "2        1   0      1.0  \n",
       "3        1   1      1.0  \n",
       "4        0   0      1.0  \n",
       "...     ..  ..      ...  \n",
       "241595   1   1      0.0  \n",
       "241596   0   0      0.0  \n",
       "241597   0   1      0.0  \n",
       "241598   1   0      0.0  \n",
       "241599   1   1      0.0  \n",
       "\n",
       "[241600 rows x 15 columns]"
      ]
     },
     "execution_count": 2,
     "metadata": {},
     "output_type": "execute_result"
    }
   ],
   "source": [
    "data_run = pd.read_csv(\"sgemm_product.csv\",index_col=False)\n",
    "data_run[\"runavg (ms)\"] = (data_run[\"Run1 (ms)\"]+data_run[\"Run2 (ms)\"]+data_run[\"Run3 (ms)\"]+data_run[\"Run4 (ms)\"])/4\n",
    "data_run[\"log_run\"] = np.where(data_run['runavg (ms)']>statistics.median(data_run[\"runavg (ms)\"]), 1.0, 0.0)\n",
    "data_run=data_run.drop([\"runavg (ms)\", \"Run1 (ms)\",\"Run2 (ms)\",\"Run3 (ms)\",\"Run4 (ms)\"],axis=1)\n",
    "data_run"
   ]
  },
  {
   "cell_type": "markdown",
   "metadata": {},
   "source": [
    "## Splitting the data and normalisation"
   ]
  },
  {
   "cell_type": "code",
   "execution_count": 3,
   "metadata": {},
   "outputs": [],
   "source": [
    "X= data_run.iloc[:,:14]\n",
    "Y=data_run.iloc[:,-1]\n",
    "X_c= X\n",
    "Y_c= Y\n",
    "X_train, X_test, y_train, y_test = train_test_split(X, Y, test_size=0.3, random_state=100)\n",
    "scaler = StandardScaler()\n",
    "x_train=scaler.fit_transform(X_train)\n",
    "x_test=scaler.fit_transform(X_test)"
   ]
  },
  {
   "cell_type": "markdown",
   "metadata": {},
   "source": [
    "## Applying Support Vector Machines"
   ]
  },
  {
   "cell_type": "code",
   "execution_count": 5,
   "metadata": {},
   "outputs": [],
   "source": [
    "svc=SVC()\n",
    "svc.fit(x_train,y_train)\n",
    "y_pred=svc.predict(x_train)\n",
    "#print('Accuracy:',metrics.accuracy_score(y_test,y_pred))"
   ]
  },
  {
   "cell_type": "code",
   "execution_count": 7,
   "metadata": {},
   "outputs": [
    {
     "name": "stdout",
     "output_type": "stream",
     "text": [
      "Accuracy: 0.961341059602649\n"
     ]
    }
   ],
   "source": [
    "print('Accuracy:',metrics.accuracy_score(y_train,y_pred))"
   ]
  },
  {
   "cell_type": "code",
   "execution_count": 8,
   "metadata": {},
   "outputs": [
    {
     "name": "stdout",
     "output_type": "stream",
     "text": [
      "Accuracy Score: 0.960733995584989\n"
     ]
    }
   ],
   "source": [
    "y_pred=svc.predict(x_test)\n",
    "print('Accuracy Score:',metrics.accuracy_score(y_test,y_pred))"
   ]
  },
  {
   "cell_type": "markdown",
   "metadata": {},
   "source": [
    "# Applying SVM with various Kernels"
   ]
  },
  {
   "cell_type": "markdown",
   "metadata": {},
   "source": [
    "## Linear"
   ]
  },
  {
   "cell_type": "code",
   "execution_count": 9,
   "metadata": {},
   "outputs": [],
   "source": [
    "svc=SVC(kernel = 'linear')\n",
    "svc.fit(x_train,y_train)\n",
    "y_pred_test=svc.predict(x_test)\n",
    "y_pred_train=svc.predict(x_train)"
   ]
  },
  {
   "cell_type": "code",
   "execution_count": 10,
   "metadata": {},
   "outputs": [
    {
     "name": "stdout",
     "output_type": "stream",
     "text": [
      "Accuracy Score for Train data: 0.831025307473983\n",
      "Accuracy Score for Test data: 0.8336506622516556\n"
     ]
    }
   ],
   "source": [
    "print('Accuracy Score for Train data:',metrics.accuracy_score(y_train,y_pred_train))\n",
    "print('Accuracy Score for Test data:', metrics.accuracy_score(y_test,y_pred_test))"
   ]
  },
  {
   "cell_type": "markdown",
   "metadata": {},
   "source": [
    "## Rbf or gaussian"
   ]
  },
  {
   "cell_type": "code",
   "execution_count": 11,
   "metadata": {},
   "outputs": [],
   "source": [
    "svc=SVC(kernel = 'rbf')\n",
    "svc.fit(x_train,y_train)\n",
    "y_pred_test=svc.predict(x_test)\n",
    "y_pred_train=svc.predict(x_train)"
   ]
  },
  {
   "cell_type": "code",
   "execution_count": 12,
   "metadata": {},
   "outputs": [
    {
     "name": "stdout",
     "output_type": "stream",
     "text": [
      "Accuracy Score for Train data: 0.961341059602649\n",
      "Accuracy Score for Test data: 0.960733995584989\n"
     ]
    }
   ],
   "source": [
    "print('Accuracy Score for Train data:',metrics.accuracy_score(y_train,y_pred_train))\n",
    "print('Accuracy Score for Test data:', metrics.accuracy_score(y_test,y_pred_test))"
   ]
  },
  {
   "cell_type": "markdown",
   "metadata": {},
   "source": [
    "## Polynomial"
   ]
  },
  {
   "cell_type": "code",
   "execution_count": 13,
   "metadata": {},
   "outputs": [],
   "source": [
    "svc=SVC(kernel = 'poly')\n",
    "svc.fit(x_train,y_train)\n",
    "y_pred_test=svc.predict(x_test)\n",
    "y_pred_train=svc.predict(x_train)"
   ]
  },
  {
   "cell_type": "code",
   "execution_count": 14,
   "metadata": {},
   "outputs": [
    {
     "name": "stdout",
     "output_type": "stream",
     "text": [
      "Accuracy Score for Train data: 0.9088753547776727\n",
      "Accuracy Score for Test data: 0.9108029801324503\n"
     ]
    }
   ],
   "source": [
    "print('Accuracy Score for Train data:',metrics.accuracy_score(y_train,y_pred_train))\n",
    "print('Accuracy Score for Test data:', metrics.accuracy_score(y_test,y_pred_test))"
   ]
  },
  {
   "cell_type": "markdown",
   "metadata": {},
   "source": [
    "# Chosen Dataset on Diabetic Retinopathy"
   ]
  },
  {
   "cell_type": "code",
   "execution_count": 2,
   "metadata": {},
   "outputs": [
    {
     "data": {
      "text/plain": [
       "(1151, 20)"
      ]
     },
     "execution_count": 2,
     "metadata": {},
     "output_type": "execute_result"
    }
   ],
   "source": [
    "data_med = arff.loadarff('messidor_features.arff')\n",
    "data_med = pd.DataFrame(data_med[0])\n",
    "data_med.shape\n",
    "#data = np.array(dataset['data'])"
   ]
  },
  {
   "cell_type": "code",
   "execution_count": 3,
   "metadata": {},
   "outputs": [],
   "source": [
    "data_med.rename(columns={'0': 'QUALITY','1':'SCREENING','2':'MA1','3':'MA2','4':'MA3','5':'MA4','6':'MA5','7':'MA6','8':'EX1','9':'EX2','10':'EX3','11':'EX4','12':'EX5','13':'EX6','14':'EX7','15':'EX8','16':'DISTANCE','17':'DIAMETER','18':'AM_FM_CLASS'}, index={'ONE': 'one'}, inplace=True)\n",
    "data_med['RESULT']=0\n",
    "for i in range(0,data_med.shape[0]):\n",
    "    if (data_med['Class'][i]==b'\\x30'):\n",
    "        data_med['RESULT'][i]=0\n",
    "    elif(data_med['Class'][i]==b'\\x31'):\n",
    "        data_med['RESULT'][i]=1\n",
    "    else:\n",
    "        data_med['RESULT'][i]='NAN'"
   ]
  },
  {
   "cell_type": "code",
   "execution_count": 4,
   "metadata": {},
   "outputs": [
    {
     "data": {
      "text/html": [
       "<div>\n",
       "<style scoped>\n",
       "    .dataframe tbody tr th:only-of-type {\n",
       "        vertical-align: middle;\n",
       "    }\n",
       "\n",
       "    .dataframe tbody tr th {\n",
       "        vertical-align: top;\n",
       "    }\n",
       "\n",
       "    .dataframe thead th {\n",
       "        text-align: right;\n",
       "    }\n",
       "</style>\n",
       "<table border=\"1\" class=\"dataframe\">\n",
       "  <thead>\n",
       "    <tr style=\"text-align: right;\">\n",
       "      <th></th>\n",
       "      <th>QUALITY</th>\n",
       "      <th>SCREENING</th>\n",
       "      <th>MA1</th>\n",
       "      <th>MA2</th>\n",
       "      <th>MA3</th>\n",
       "      <th>MA4</th>\n",
       "      <th>MA5</th>\n",
       "      <th>MA6</th>\n",
       "      <th>EX1</th>\n",
       "      <th>EX2</th>\n",
       "      <th>...</th>\n",
       "      <th>EX4</th>\n",
       "      <th>EX5</th>\n",
       "      <th>EX6</th>\n",
       "      <th>EX7</th>\n",
       "      <th>EX8</th>\n",
       "      <th>DISTANCE</th>\n",
       "      <th>DIAMETER</th>\n",
       "      <th>AM_FM_CLASS</th>\n",
       "      <th>Class</th>\n",
       "      <th>RESULT</th>\n",
       "    </tr>\n",
       "  </thead>\n",
       "  <tbody>\n",
       "    <tr>\n",
       "      <td>0</td>\n",
       "      <td>1.0</td>\n",
       "      <td>1.0</td>\n",
       "      <td>22.0</td>\n",
       "      <td>22.0</td>\n",
       "      <td>22.0</td>\n",
       "      <td>19.0</td>\n",
       "      <td>18.0</td>\n",
       "      <td>14.0</td>\n",
       "      <td>49.895756</td>\n",
       "      <td>17.775994</td>\n",
       "      <td>...</td>\n",
       "      <td>0.771761</td>\n",
       "      <td>0.018632</td>\n",
       "      <td>0.006864</td>\n",
       "      <td>0.003923</td>\n",
       "      <td>0.003923</td>\n",
       "      <td>0.486903</td>\n",
       "      <td>0.100025</td>\n",
       "      <td>1.0</td>\n",
       "      <td>b'0'</td>\n",
       "      <td>0</td>\n",
       "    </tr>\n",
       "    <tr>\n",
       "      <td>1</td>\n",
       "      <td>1.0</td>\n",
       "      <td>1.0</td>\n",
       "      <td>24.0</td>\n",
       "      <td>24.0</td>\n",
       "      <td>22.0</td>\n",
       "      <td>18.0</td>\n",
       "      <td>16.0</td>\n",
       "      <td>13.0</td>\n",
       "      <td>57.709936</td>\n",
       "      <td>23.799994</td>\n",
       "      <td>...</td>\n",
       "      <td>0.234185</td>\n",
       "      <td>0.003903</td>\n",
       "      <td>0.003903</td>\n",
       "      <td>0.003903</td>\n",
       "      <td>0.003903</td>\n",
       "      <td>0.520908</td>\n",
       "      <td>0.144414</td>\n",
       "      <td>0.0</td>\n",
       "      <td>b'0'</td>\n",
       "      <td>0</td>\n",
       "    </tr>\n",
       "    <tr>\n",
       "      <td>2</td>\n",
       "      <td>1.0</td>\n",
       "      <td>1.0</td>\n",
       "      <td>62.0</td>\n",
       "      <td>60.0</td>\n",
       "      <td>59.0</td>\n",
       "      <td>54.0</td>\n",
       "      <td>47.0</td>\n",
       "      <td>33.0</td>\n",
       "      <td>55.831441</td>\n",
       "      <td>27.993933</td>\n",
       "      <td>...</td>\n",
       "      <td>4.852282</td>\n",
       "      <td>1.393889</td>\n",
       "      <td>0.373252</td>\n",
       "      <td>0.041817</td>\n",
       "      <td>0.007744</td>\n",
       "      <td>0.530904</td>\n",
       "      <td>0.128548</td>\n",
       "      <td>0.0</td>\n",
       "      <td>b'1'</td>\n",
       "      <td>1</td>\n",
       "    </tr>\n",
       "    <tr>\n",
       "      <td>3</td>\n",
       "      <td>1.0</td>\n",
       "      <td>1.0</td>\n",
       "      <td>55.0</td>\n",
       "      <td>53.0</td>\n",
       "      <td>53.0</td>\n",
       "      <td>50.0</td>\n",
       "      <td>43.0</td>\n",
       "      <td>31.0</td>\n",
       "      <td>40.467228</td>\n",
       "      <td>18.445954</td>\n",
       "      <td>...</td>\n",
       "      <td>3.079428</td>\n",
       "      <td>0.840261</td>\n",
       "      <td>0.272434</td>\n",
       "      <td>0.007653</td>\n",
       "      <td>0.001531</td>\n",
       "      <td>0.483284</td>\n",
       "      <td>0.114790</td>\n",
       "      <td>0.0</td>\n",
       "      <td>b'0'</td>\n",
       "      <td>0</td>\n",
       "    </tr>\n",
       "    <tr>\n",
       "      <td>4</td>\n",
       "      <td>1.0</td>\n",
       "      <td>1.0</td>\n",
       "      <td>44.0</td>\n",
       "      <td>44.0</td>\n",
       "      <td>44.0</td>\n",
       "      <td>41.0</td>\n",
       "      <td>39.0</td>\n",
       "      <td>27.0</td>\n",
       "      <td>18.026254</td>\n",
       "      <td>8.570709</td>\n",
       "      <td>...</td>\n",
       "      <td>0.000000</td>\n",
       "      <td>0.000000</td>\n",
       "      <td>0.000000</td>\n",
       "      <td>0.000000</td>\n",
       "      <td>0.000000</td>\n",
       "      <td>0.475935</td>\n",
       "      <td>0.123572</td>\n",
       "      <td>0.0</td>\n",
       "      <td>b'1'</td>\n",
       "      <td>1</td>\n",
       "    </tr>\n",
       "  </tbody>\n",
       "</table>\n",
       "<p>5 rows × 21 columns</p>\n",
       "</div>"
      ],
      "text/plain": [
       "   QUALITY  SCREENING   MA1   MA2   MA3   MA4   MA5   MA6        EX1  \\\n",
       "0      1.0        1.0  22.0  22.0  22.0  19.0  18.0  14.0  49.895756   \n",
       "1      1.0        1.0  24.0  24.0  22.0  18.0  16.0  13.0  57.709936   \n",
       "2      1.0        1.0  62.0  60.0  59.0  54.0  47.0  33.0  55.831441   \n",
       "3      1.0        1.0  55.0  53.0  53.0  50.0  43.0  31.0  40.467228   \n",
       "4      1.0        1.0  44.0  44.0  44.0  41.0  39.0  27.0  18.026254   \n",
       "\n",
       "         EX2  ...       EX4       EX5       EX6       EX7       EX8  DISTANCE  \\\n",
       "0  17.775994  ...  0.771761  0.018632  0.006864  0.003923  0.003923  0.486903   \n",
       "1  23.799994  ...  0.234185  0.003903  0.003903  0.003903  0.003903  0.520908   \n",
       "2  27.993933  ...  4.852282  1.393889  0.373252  0.041817  0.007744  0.530904   \n",
       "3  18.445954  ...  3.079428  0.840261  0.272434  0.007653  0.001531  0.483284   \n",
       "4   8.570709  ...  0.000000  0.000000  0.000000  0.000000  0.000000  0.475935   \n",
       "\n",
       "   DIAMETER  AM_FM_CLASS  Class RESULT  \n",
       "0  0.100025          1.0   b'0'      0  \n",
       "1  0.144414          0.0   b'0'      0  \n",
       "2  0.128548          0.0   b'1'      1  \n",
       "3  0.114790          0.0   b'0'      0  \n",
       "4  0.123572          0.0   b'1'      1  \n",
       "\n",
       "[5 rows x 21 columns]"
      ]
     },
     "execution_count": 4,
     "metadata": {},
     "output_type": "execute_result"
    }
   ],
   "source": [
    "data_med.head()"
   ]
  },
  {
   "cell_type": "code",
   "execution_count": 5,
   "metadata": {},
   "outputs": [
    {
     "data": {
      "text/plain": [
       "31"
      ]
     },
     "execution_count": 5,
     "metadata": {},
     "output_type": "execute_result"
    }
   ],
   "source": [
    "import gc\n",
    "gc.collect()"
   ]
  },
  {
   "cell_type": "code",
   "execution_count": 116,
   "metadata": {},
   "outputs": [
    {
     "name": "stdout",
     "output_type": "stream",
     "text": [
      "AxesSubplot(0.125,0.125;0.775x0.755)\n",
      "AxesSubplot(0.125,0.125;0.775x0.755)\n"
     ]
    },
    {
     "data": {
      "image/png": "[encoded data removed]",
      "text/plain": [
       "<Figure size 432x288 with 1 Axes>"
      ]
     },
     "metadata": {
      "needs_background": "light"
     },
     "output_type": "display_data"
    },
    {
     "data": {
      "image/png": "[encoded data removed]",
      "text/plain": [
       "<Figure size 432x288 with 1 Axes>"
      ]
     },
     "metadata": {
      "needs_background": "light"
     },
     "output_type": "display_data"
    }
   ],
   "source": [
    "data_med_box1=data_med.iloc[:,0:10]\n",
    "print(data_med_box1.plot.box(grid='True'))\n",
    "data_med_box2=data_med.iloc[:,11:18]\n",
    "print(data_med_box2.plot.box(grid='True'))\n",
    "#sns.boxplot(x=['QUALITY','SCREENING'], data=data_med)"
   ]
  },
  {
   "cell_type": "code",
   "execution_count": 11,
   "metadata": {},
   "outputs": [
    {
     "data": {
      "text/plain": [
       "QUALITY        0\n",
       "SCREENING      0\n",
       "MA1            0\n",
       "MA2            0\n",
       "MA3            0\n",
       "MA4            0\n",
       "MA5            0\n",
       "MA6            0\n",
       "EX1            0\n",
       "EX2            0\n",
       "EX3            0\n",
       "EX4            0\n",
       "EX5            0\n",
       "EX6            0\n",
       "EX7            0\n",
       "EX8            0\n",
       "DISTANCE       0\n",
       "DIAMETER       0\n",
       "AM_FM_CLASS    0\n",
       "Class          0\n",
       "RESULT         0\n",
       "dtype: int64"
      ]
     },
     "execution_count": 11,
     "metadata": {},
     "output_type": "execute_result"
    }
   ],
   "source": [
    "data_med.isnull().sum()"
   ]
  },
  {
   "cell_type": "code",
   "execution_count": 12,
   "metadata": {},
   "outputs": [],
   "source": [
    "X2=data_med.drop(['RESULT','Class'],axis=1)\n",
    "Y2=data_med['RESULT']"
   ]
  },
  {
   "cell_type": "markdown",
   "metadata": {},
   "source": [
    "## Splitting the data and normalisation"
   ]
  },
  {
   "cell_type": "code",
   "execution_count": 13,
   "metadata": {},
   "outputs": [],
   "source": [
    "X_train2, X_test2, y_train2, y_test2 = train_test_split(X2, Y2, test_size = 0.30,random_state=23)\n",
    "scaler = StandardScaler()\n",
    "x_train2=scaler.fit_transform(X_train2)\n",
    "x_test2=scaler.fit_transform(X_test2)"
   ]
  },
  {
   "cell_type": "markdown",
   "metadata": {},
   "source": [
    "## Applying SVM"
   ]
  },
  {
   "cell_type": "code",
   "execution_count": 9,
   "metadata": {},
   "outputs": [],
   "source": [
    "svc=SVC()\n",
    "svc.fit(x_train2,y_train2)\n",
    "y_pred_train=svc.predict(x_train2)\n",
    "y_pred_test=svc.predict(x_test2)"
   ]
  },
  {
   "cell_type": "code",
   "execution_count": 10,
   "metadata": {},
   "outputs": [
    {
     "name": "stdout",
     "output_type": "stream",
     "text": [
      "Accuracy Score for Train data: 0.7515527950310559\n",
      "Accuracy Score for Test data: 0.6445086705202312\n"
     ]
    }
   ],
   "source": [
    "print('Accuracy Score for Train data:',metrics.accuracy_score(y_train2,y_pred_train))\n",
    "print('Accuracy Score for Test data:',metrics.accuracy_score(y_test2,y_pred_test))"
   ]
  },
  {
   "cell_type": "markdown",
   "metadata": {},
   "source": [
    "## Using different Kernels"
   ]
  },
  {
   "cell_type": "markdown",
   "metadata": {},
   "source": [
    "## Linear"
   ]
  },
  {
   "cell_type": "code",
   "execution_count": 11,
   "metadata": {},
   "outputs": [],
   "source": [
    "svc=SVC(kernel = 'linear')\n",
    "svc.fit(x_train2,y_train2)\n",
    "y_pred_test=svc.predict(x_test2)\n",
    "y_pred_train=svc.predict(x_train2)"
   ]
  },
  {
   "cell_type": "code",
   "execution_count": 12,
   "metadata": {},
   "outputs": [
    {
     "name": "stdout",
     "output_type": "stream",
     "text": [
      "Accuracy Score for Train data: 0.7552795031055901\n",
      "Accuracy Score for Test data: 0.6936416184971098\n"
     ]
    }
   ],
   "source": [
    "print('Accuracy Score for Train data:',metrics.accuracy_score(y_train2,y_pred_train))\n",
    "print('Accuracy Score for Test data:', metrics.accuracy_score(y_test2,y_pred_test))"
   ]
  },
  {
   "cell_type": "markdown",
   "metadata": {},
   "source": [
    "## Rbf or gaussian"
   ]
  },
  {
   "cell_type": "code",
   "execution_count": 13,
   "metadata": {},
   "outputs": [],
   "source": [
    "svc=SVC(kernel = 'rbf')\n",
    "svc.fit(x_train2,y_train2)\n",
    "y_pred_test=svc.predict(x_test2)\n",
    "y_pred_train=svc.predict(x_train2)"
   ]
  },
  {
   "cell_type": "code",
   "execution_count": 14,
   "metadata": {},
   "outputs": [
    {
     "name": "stdout",
     "output_type": "stream",
     "text": [
      "Accuracy Score for Train data: 0.7515527950310559\n",
      "Accuracy Score for Test data: 0.6445086705202312\n"
     ]
    }
   ],
   "source": [
    "print('Accuracy Score for Train data:',metrics.accuracy_score(y_train2,y_pred_train))\n",
    "print('Accuracy Score for Test data:', metrics.accuracy_score(y_test2,y_pred_test))"
   ]
  },
  {
   "cell_type": "markdown",
   "metadata": {},
   "source": [
    "## Polynomial"
   ]
  },
  {
   "cell_type": "code",
   "execution_count": 15,
   "metadata": {},
   "outputs": [],
   "source": [
    "svc=SVC(kernel = 'poly')\n",
    "svc.fit(x_train2,y_train2)\n",
    "y_pred_test=svc.predict(x_test2)\n",
    "y_pred_train=svc.predict(x_train2)"
   ]
  },
  {
   "cell_type": "code",
   "execution_count": 16,
   "metadata": {},
   "outputs": [
    {
     "name": "stdout",
     "output_type": "stream",
     "text": [
      "Accuracy Score for Train data: 0.698136645962733\n",
      "Accuracy Score for Test data: 0.5578034682080925\n"
     ]
    }
   ],
   "source": [
    "print('Accuracy Score for Train data:',metrics.accuracy_score(y_train2,y_pred_train))\n",
    "print('Accuracy Score for Test data:', metrics.accuracy_score(y_test2,y_pred_test))"
   ]
  },
  {
   "cell_type": "markdown",
   "metadata": {},
   "source": [
    "# Decision Trees"
   ]
  },
  {
   "cell_type": "markdown",
   "metadata": {},
   "source": [
    "## Dataset- Runtime"
   ]
  },
  {
   "cell_type": "code",
   "execution_count": 72,
   "metadata": {},
   "outputs": [],
   "source": [
    "X= data_run.iloc[:,:14]\n",
    "Y=data_run.iloc[:,-1]\n",
    "X_train, X_test, y_train, y_test = train_test_split(X, Y, test_size=0.3, random_state=100)\n",
    "scaler = StandardScaler()\n",
    "x_train=scaler.fit_transform(X_train)\n",
    "x_test=scaler.fit_transform(X_test)"
   ]
  },
  {
   "cell_type": "code",
   "execution_count": 94,
   "metadata": {},
   "outputs": [],
   "source": [
    "clf = DecisionTreeClassifier()\n",
    "clf = clf.fit(x_train,y_train)\n",
    "y_pred_train = clf.predict(x_train)\n",
    "y_pred_test = clf.predict(x_test)"
   ]
  },
  {
   "cell_type": "code",
   "execution_count": 95,
   "metadata": {},
   "outputs": [
    {
     "name": "stdout",
     "output_type": "stream",
     "text": [
      "Accuracy Score for Train data: 1.0\n",
      "Accuracy Score for Test data: 0.9916804635761589\n"
     ]
    }
   ],
   "source": [
    "print('Accuracy Score for Train data:',metrics.accuracy_score(y_train,y_pred_train))\n",
    "print('Accuracy Score for Test data:', metrics.accuracy_score(y_test,y_pred_test))\n",
    "original_accuracy=metrics.accuracy_score(y_test,y_pred_test)"
   ]
  },
  {
   "cell_type": "code",
   "execution_count": 110,
   "metadata": {},
   "outputs": [],
   "source": [
    "train_acc=[]\n",
    "test_acc=[]\n",
    "for i in range(1,25):\n",
    "    clf = DecisionTreeClassifier(max_depth=i,criterion='entropy')\n",
    "    clf = clf.fit(x_train,y_train)\n",
    "    y_pred_train = clf.predict(x_train)\n",
    "    y_pred_test = clf.predict(x_test)\n",
    "    train_acc.append(metrics.accuracy_score(y_train,y_pred_train))\n",
    "    test_acc.append(metrics.accuracy_score(y_test,y_pred_test))"
   ]
  },
  {
   "cell_type": "code",
   "execution_count": 111,
   "metadata": {},
   "outputs": [
    {
     "name": "stdout",
     "output_type": "stream",
     "text": [
      "18 0.9917632450331125\n"
     ]
    }
   ],
   "source": [
    "for i in range(len(test_acc)):\n",
    "    if (test_acc[i]>original_accuracy):\n",
    "        print (i+1,test_acc[i])\n",
    "        break"
   ]
  },
  {
   "cell_type": "code",
   "execution_count": 123,
   "metadata": {},
   "outputs": [
    {
     "data": {
      "text/plain": [
       "Text(0.5, 1.0, 'Depth Vs Accuracy\\nOriginal accuracy:0.99168')"
      ]
     },
     "execution_count": 123,
     "metadata": {},
     "output_type": "execute_result"
    },
    {
     "data": {
      "image/png": "[encoded data removed]",
      "text/plain": [
       "<Figure size 432x288 with 1 Axes>"
      ]
     },
     "metadata": {
      "needs_background": "light"
     },
     "output_type": "display_data"
    }
   ],
   "source": [
    "plt.plot(test_acc)\n",
    "plt.ylabel('Accuracy')\n",
    "plt.xlabel('depth')\n",
    "plt.title('Depth Vs Accuracy'+'\\n'+'Original accuracy:{}'.format(round(original_accuracy,5)))"
   ]
  },
  {
   "cell_type": "code",
   "execution_count": 112,
   "metadata": {},
   "outputs": [
    {
     "data": {
      "text/plain": [
       "[0.6989100441501104,\n",
       " 0.6989100441501104,\n",
       " 0.75655353200883,\n",
       " 0.784782008830022,\n",
       " 0.8165424944812362,\n",
       " 0.8613962472406181,\n",
       " 0.891432119205298,\n",
       " 0.924848233995585,\n",
       " 0.9426186534216335,\n",
       " 0.9568846578366446,\n",
       " 0.9663217439293599,\n",
       " 0.9737030905077263,\n",
       " 0.9791942604856512,\n",
       " 0.9838024282560707,\n",
       " 0.9877069536423841,\n",
       " 0.9893073951434879,\n",
       " 0.9913079470198676,\n",
       " 0.9917632450331125,\n",
       " 0.9916942604856512,\n",
       " 0.9918322295805739,\n",
       " 0.9916390728476822,\n",
       " 0.9915976821192053,\n",
       " 0.9917494481236203,\n",
       " 0.9915838852097131]"
      ]
     },
     "execution_count": 112,
     "metadata": {},
     "output_type": "execute_result"
    }
   ],
   "source": [
    "train_acc=[]\n",
    "test_acc=[]\n",
    "for i in range(1,25):\n",
    "    clf = DecisionTreeClassifier(max_depth=i,criterion='gini')\n",
    "    clf = clf.fit(x_train,y_train)\n",
    "    y_pred_train = clf.predict(x_train)\n",
    "    y_pred_test = clf.predict(x_test)\n",
    "    train_acc.append(metrics.accuracy_score(y_train,y_pred_train))\n",
    "    test_acc.append(metrics.accuracy_score(y_test,y_pred_test))"
   ]
  },
  {
   "cell_type": "code",
   "execution_count": 124,
   "metadata": {},
   "outputs": [
    {
     "name": "stdout",
     "output_type": "stream",
     "text": [
      "18 0.9917632450331125\n"
     ]
    }
   ],
   "source": [
    "for i in range(len(test_acc)):\n",
    "    if (test_acc[i]>original_accuracy):\n",
    "        print (i+1,test_acc[i])\n",
    "        break"
   ]
  },
  {
   "cell_type": "code",
   "execution_count": 125,
   "metadata": {},
   "outputs": [
    {
     "data": {
      "text/plain": [
       "Text(0.5, 1.0, 'Depth Vs Accuracy\\nOriginal accuracy:0.99168')"
      ]
     },
     "execution_count": 125,
     "metadata": {},
     "output_type": "execute_result"
    },
    {
     "data": {
      "image/png": "[encoded data removed]",
      "text/plain": [
       "<Figure size 432x288 with 1 Axes>"
      ]
     },
     "metadata": {
      "needs_background": "light"
     },
     "output_type": "display_data"
    }
   ],
   "source": [
    "plt.plot(test_acc)\n",
    "plt.ylabel('Accuracy')\n",
    "plt.xlabel('depth')\n",
    "plt.title('Depth Vs Accuracy'+'\\n'+'Original accuracy:{}'.format(round(original_accuracy,5)))"
   ]
  },
  {
   "cell_type": "markdown",
   "metadata": {},
   "source": [
    "## Dataset- Diabetic Retinopathy"
   ]
  },
  {
   "cell_type": "code",
   "execution_count": 17,
   "metadata": {},
   "outputs": [],
   "source": [
    "X_train2, X_test2, y_train2, y_test2 = train_test_split(X2, Y2, test_size = 0.30,random_state=23)\n",
    "scaler = StandardScaler()\n",
    "x_train2=scaler.fit_transform(X_train2)\n",
    "x_test2=scaler.fit_transform(X_test2)"
   ]
  },
  {
   "cell_type": "code",
   "execution_count": 90,
   "metadata": {},
   "outputs": [],
   "source": [
    "clf = DecisionTreeClassifier()\n",
    "clf = clf.fit(x_train2,y_train2)\n",
    "y_pred_train2 = clf.predict(x_train2)\n",
    "y_pred_test2 = clf.predict(x_test2)"
   ]
  },
  {
   "cell_type": "code",
   "execution_count": 91,
   "metadata": {},
   "outputs": [
    {
     "name": "stdout",
     "output_type": "stream",
     "text": [
      "Accuracy Score for Train data: 1.0\n",
      "Accuracy Score for Test data: 0.5867052023121387\n"
     ]
    }
   ],
   "source": [
    "print('Accuracy Score for Train data:',metrics.accuracy_score(y_train2,y_pred_train2))\n",
    "print('Accuracy Score for Test data:', metrics.accuracy_score(y_test2,y_pred_test2))\n",
    "original_accuracy2=metrics.accuracy_score(y_test2,y_pred_test2)"
   ]
  },
  {
   "cell_type": "code",
   "execution_count": 92,
   "metadata": {},
   "outputs": [],
   "source": [
    "train_acc2=[]\n",
    "test_acc2=[]\n",
    "for i in range(1,30):\n",
    "    clf = DecisionTreeClassifier(max_depth=i,criterion='entropy')\n",
    "    clf = clf.fit(x_train2,y_train2)\n",
    "    y_pred_train2 = clf.predict(x_train2)\n",
    "    y_pred_test2 = clf.predict(x_test2)\n",
    "    train_acc2.append(metrics.accuracy_score(y_train2,y_pred_train2))\n",
    "    test_acc2.append(metrics.accuracy_score(y_test2,y_pred_test2))"
   ]
  },
  {
   "cell_type": "code",
   "execution_count": 93,
   "metadata": {},
   "outputs": [
    {
     "name": "stdout",
     "output_type": "stream",
     "text": [
      "12 0.5895953757225434\n"
     ]
    }
   ],
   "source": [
    "for i in range(len(test_acc2)):\n",
    "    if (test_acc2[i]>original_accuracy2):\n",
    "        print (i+1,test_acc2[i])\n",
    "        break"
   ]
  },
  {
   "cell_type": "code",
   "execution_count": 94,
   "metadata": {},
   "outputs": [
    {
     "data": {
      "text/plain": [
       "Text(0.5, 1.0, 'Depth Vs Accuracy\\nOriginal accuracy:0.58671')"
      ]
     },
     "execution_count": 94,
     "metadata": {},
     "output_type": "execute_result"
    },
    {
     "data": {
      "image/png": "[encoded data removed]",
      "text/plain": [
       "<Figure size 432x288 with 1 Axes>"
      ]
     },
     "metadata": {
      "needs_background": "light"
     },
     "output_type": "display_data"
    }
   ],
   "source": [
    "plt.plot(test_acc2)\n",
    "plt.ylabel('Accuracy')\n",
    "plt.xlabel('depth')\n",
    "plt.title('Depth Vs Accuracy'+'\\n'+'Original accuracy:{}'.format(round(original_accuracy2,5)))"
   ]
  },
  {
   "cell_type": "code",
   "execution_count": 95,
   "metadata": {},
   "outputs": [
    {
     "data": {
      "text/plain": [
       "[0.5115606936416185,\n",
       " 0.5606936416184971,\n",
       " 0.569364161849711,\n",
       " 0.5520231213872833,\n",
       " 0.5664739884393064,\n",
       " 0.5491329479768786,\n",
       " 0.569364161849711,\n",
       " 0.5491329479768786,\n",
       " 0.5751445086705202,\n",
       " 0.5375722543352601,\n",
       " 0.5722543352601156,\n",
       " 0.5895953757225434,\n",
       " 0.5578034682080925,\n",
       " 0.5491329479768786,\n",
       " 0.5491329479768786,\n",
       " 0.5664739884393064,\n",
       " 0.5549132947976878,\n",
       " 0.5549132947976878,\n",
       " 0.546242774566474,\n",
       " 0.5289017341040463,\n",
       " 0.5202312138728323,\n",
       " 0.5289017341040463,\n",
       " 0.5375722543352601,\n",
       " 0.546242774566474,\n",
       " 0.5346820809248555,\n",
       " 0.5664739884393064,\n",
       " 0.523121387283237,\n",
       " 0.5491329479768786,\n",
       " 0.5722543352601156]"
      ]
     },
     "execution_count": 95,
     "metadata": {},
     "output_type": "execute_result"
    }
   ],
   "source": [
    "test_acc2"
   ]
  },
  {
   "cell_type": "code",
   "execution_count": 96,
   "metadata": {},
   "outputs": [],
   "source": [
    "train_acc2=[]\n",
    "test_acc2=[]\n",
    "for i in range(1,30):\n",
    "    clf = DecisionTreeClassifier(max_depth=i,criterion='gini')\n",
    "    clf = clf.fit(x_train2,y_train2)\n",
    "    y_pred_train2 = clf.predict(x_train2)\n",
    "    y_pred_test2 = clf.predict(x_test2)\n",
    "    train_acc2.append(metrics.accuracy_score(y_train2,y_pred_train2))\n",
    "    test_acc2.append(metrics.accuracy_score(y_test2,y_pred_test2))"
   ]
  },
  {
   "cell_type": "code",
   "execution_count": 97,
   "metadata": {},
   "outputs": [
    {
     "name": "stdout",
     "output_type": "stream",
     "text": [
      "10 0.5953757225433526\n"
     ]
    }
   ],
   "source": [
    "for i in range(len(test_acc2)):\n",
    "    if (test_acc2[i]>original_accuracy2):\n",
    "        print (i+1,test_acc2[i])\n",
    "        break"
   ]
  },
  {
   "cell_type": "code",
   "execution_count": 98,
   "metadata": {},
   "outputs": [
    {
     "data": {
      "text/plain": [
       "Text(0.5, 1.0, 'Depth Vs Accuracy\\nOriginal accuracy:0.58671')"
      ]
     },
     "execution_count": 98,
     "metadata": {},
     "output_type": "execute_result"
    },
    {
     "data": {
      "image/png": "[encoded data removed]",
      "text/plain": [
       "<Figure size 432x288 with 1 Axes>"
      ]
     },
     "metadata": {
      "needs_background": "light"
     },
     "output_type": "display_data"
    }
   ],
   "source": [
    "plt.plot(test_acc2)\n",
    "plt.ylabel('Accuracy')\n",
    "plt.xlabel('depth')\n",
    "plt.title('Depth Vs Accuracy'+'\\n'+'Original accuracy:{}'.format(round(original_accuracy2,5)))"
   ]
  },
  {
   "cell_type": "markdown",
   "metadata": {},
   "source": [
    "# Boosting with Decision Trees"
   ]
  },
  {
   "cell_type": "markdown",
   "metadata": {},
   "source": [
    "## Dataset- Runtime"
   ]
  },
  {
   "cell_type": "code",
   "execution_count": 118,
   "metadata": {},
   "outputs": [],
   "source": [
    "clfb = AdaBoostClassifier(DecisionTreeClassifier())\n",
    "cl_b= clfb.fit(x_train,y_train)\n",
    "y_pred_train = cl_b.predict(x_train)\n",
    "y_pred_test = cl_b.predict(x_test)"
   ]
  },
  {
   "cell_type": "code",
   "execution_count": 119,
   "metadata": {},
   "outputs": [
    {
     "name": "stdout",
     "output_type": "stream",
     "text": [
      "Accuracy Score for Train data: 1.0\n",
      "Accuracy Score for Test data: 0.9917218543046358\n"
     ]
    }
   ],
   "source": [
    "print('Accuracy Score for Train data:',metrics.accuracy_score(y_train,y_pred_train))\n",
    "print('Accuracy Score for Test data:', metrics.accuracy_score(y_test,y_pred_test))\n",
    "original_accuracy=metrics.accuracy_score(y_test,y_pred_test)"
   ]
  },
  {
   "cell_type": "code",
   "execution_count": 120,
   "metadata": {},
   "outputs": [],
   "source": [
    "train_acc=[]\n",
    "test_acc=[]\n",
    "for i in range(1,30):\n",
    "    clf = AdaBoostClassifier(DecisionTreeClassifier(max_depth=i,criterion='entropy'))\n",
    "    clf = clf.fit(x_train,y_train)\n",
    "    y_pred_train = clf.predict(x_train)\n",
    "    y_pred_test = clf.predict(x_test)\n",
    "    train_acc.append(metrics.accuracy_score(y_train,y_pred_train))\n",
    "    test_acc.append(metrics.accuracy_score(y_test,y_pred_test))"
   ]
  },
  {
   "cell_type": "code",
   "execution_count": 121,
   "metadata": {},
   "outputs": [
    {
     "name": "stdout",
     "output_type": "stream",
     "text": [
      "15 0.9919977924944813\n"
     ]
    }
   ],
   "source": [
    "for i in range(len(test_acc)):\n",
    "    if (test_acc[i]>original_accuracy):\n",
    "        print (i+1,test_acc[i])\n",
    "        break"
   ]
  },
  {
   "cell_type": "code",
   "execution_count": 122,
   "metadata": {},
   "outputs": [
    {
     "data": {
      "text/plain": [
       "Text(0.5, 1.0, 'Depth Vs Accuracy\\nOriginal accuracy:0.99172')"
      ]
     },
     "execution_count": 122,
     "metadata": {},
     "output_type": "execute_result"
    },
    {
     "data": {
      "image/png": "[encoded data removed]",
      "text/plain": [
       "<Figure size 432x288 with 1 Axes>"
      ]
     },
     "metadata": {
      "needs_background": "light"
     },
     "output_type": "display_data"
    }
   ],
   "source": [
    "plt.plot(test_acc)\n",
    "plt.ylabel('Accuracy')\n",
    "plt.xlabel('depth')\n",
    "plt.title('Depth Vs Accuracy'+'\\n'+'Original accuracy:{}'.format(round(original_accuracy,5)))"
   ]
  },
  {
   "cell_type": "code",
   "execution_count": 123,
   "metadata": {},
   "outputs": [],
   "source": [
    "train_acc=[]\n",
    "test_acc=[]\n",
    "for i in range(1,30):\n",
    "    clf = AdaBoostClassifier(DecisionTreeClassifier(max_depth=i,criterion='gini'))\n",
    "    clf = clf.fit(x_train,y_train)\n",
    "    y_pred_train = clf.predict(x_train)\n",
    "    y_pred_test = clf.predict(x_test)\n",
    "    train_acc.append(metrics.accuracy_score(y_train,y_pred_train))\n",
    "    test_acc.append(metrics.accuracy_score(y_test,y_pred_test))"
   ]
  },
  {
   "cell_type": "code",
   "execution_count": 124,
   "metadata": {},
   "outputs": [
    {
     "name": "stdout",
     "output_type": "stream",
     "text": [
      "15 0.9920115894039735\n"
     ]
    }
   ],
   "source": [
    "for i in range(len(test_acc)):\n",
    "    if (test_acc[i]>original_accuracy):\n",
    "        print (i+1,test_acc[i])\n",
    "        break"
   ]
  },
  {
   "cell_type": "code",
   "execution_count": 125,
   "metadata": {},
   "outputs": [
    {
     "data": {
      "text/plain": [
       "Text(0.5, 1.0, 'Depth Vs Accuracy\\nOriginal accuracy:0.99172')"
      ]
     },
     "execution_count": 125,
     "metadata": {},
     "output_type": "execute_result"
    },
    {
     "data": {
      "image/png": "[encoded data removed]",
      "text/plain": [
       "<Figure size 432x288 with 1 Axes>"
      ]
     },
     "metadata": {
      "needs_background": "light"
     },
     "output_type": "display_data"
    }
   ],
   "source": [
    "plt.plot(test_acc)\n",
    "plt.ylabel('Accuracy')\n",
    "plt.xlabel('depth')\n",
    "plt.title('Depth Vs Accuracy'+'\\n'+'Original accuracy:{}'.format(round(original_accuracy,5)))"
   ]
  },
  {
   "cell_type": "markdown",
   "metadata": {},
   "source": [
    "## Dataset- Diabetic Retinopathy"
   ]
  },
  {
   "cell_type": "code",
   "execution_count": 109,
   "metadata": {},
   "outputs": [],
   "source": [
    "clfb = AdaBoostClassifier(DecisionTreeClassifier())\n",
    "cl_b= clfb.fit(x_train2,y_train2)\n",
    "y_pred_train2 = cl_b.predict(x_train2)\n",
    "y_pred_test2 = cl_b.predict(x_test2)"
   ]
  },
  {
   "cell_type": "code",
   "execution_count": 110,
   "metadata": {},
   "outputs": [
    {
     "name": "stdout",
     "output_type": "stream",
     "text": [
      "Accuracy Score for Train data: 1.0\n",
      "Accuracy Score for Test data: 0.5780346820809249\n"
     ]
    }
   ],
   "source": [
    "print('Accuracy Score for Train data:',metrics.accuracy_score(y_train2,y_pred_train2))\n",
    "print('Accuracy Score for Test data:', metrics.accuracy_score(y_test2,y_pred_test2))\n",
    "original_accuracy2=metrics.accuracy_score(y_test2,y_pred_test2)"
   ]
  },
  {
   "cell_type": "code",
   "execution_count": 111,
   "metadata": {},
   "outputs": [],
   "source": [
    "train_acc2=[]\n",
    "test_acc2=[]\n",
    "for i in range(1,30):\n",
    "    clf = AdaBoostClassifier(DecisionTreeClassifier(max_depth=i,criterion='entropy'))\n",
    "    clf = clf.fit(x_train2,y_train2)\n",
    "    y_pred_train2 = clf.predict(x_train2)\n",
    "    y_pred_test2 = clf.predict(x_test2)\n",
    "    train_acc2.append(metrics.accuracy_score(y_train2,y_pred_train2))\n",
    "    test_acc2.append(metrics.accuracy_score(y_test2,y_pred_test2))"
   ]
  },
  {
   "cell_type": "code",
   "execution_count": 112,
   "metadata": {},
   "outputs": [
    {
     "name": "stdout",
     "output_type": "stream",
     "text": [
      "2 0.6242774566473989\n"
     ]
    }
   ],
   "source": [
    "for i in range(len(test_acc2)):\n",
    "    if (test_acc2[i]>original_accuracy2):\n",
    "        print (i+1,test_acc2[i])\n",
    "        break"
   ]
  },
  {
   "cell_type": "code",
   "execution_count": 113,
   "metadata": {},
   "outputs": [
    {
     "data": {
      "text/plain": [
       "Text(0.5, 1.0, 'Depth Vs Accuracy\\nOriginal accuracy:0.57803')"
      ]
     },
     "execution_count": 113,
     "metadata": {},
     "output_type": "execute_result"
    },
    {
     "data": {
      "image/png": "[encoded data removed]",
      "text/plain": [
       "<Figure size 432x288 with 1 Axes>"
      ]
     },
     "metadata": {
      "needs_background": "light"
     },
     "output_type": "display_data"
    }
   ],
   "source": [
    "plt.plot(test_acc2)\n",
    "plt.ylabel('Accuracy')\n",
    "plt.xlabel('depth')\n",
    "plt.title('Depth Vs Accuracy'+'\\n'+'Original accuracy:{}'.format(round(original_accuracy2,5)))"
   ]
  },
  {
   "cell_type": "code",
   "execution_count": 114,
   "metadata": {},
   "outputs": [],
   "source": [
    "train_acc2=[]\n",
    "test_acc2=[]\n",
    "for i in range(1,30):\n",
    "    clf = AdaBoostClassifier(DecisionTreeClassifier(max_depth=i,criterion='gini'))\n",
    "    clf = clf.fit(x_train2,y_train2)\n",
    "    y_pred_train2 = clf.predict(x_train2)\n",
    "    y_pred_test2 = clf.predict(x_test2)\n",
    "    train_acc2.append(metrics.accuracy_score(y_train2,y_pred_train2))\n",
    "    test_acc2.append(metrics.accuracy_score(y_test2,y_pred_test2))"
   ]
  },
  {
   "cell_type": "code",
   "execution_count": 115,
   "metadata": {},
   "outputs": [
    {
     "name": "stdout",
     "output_type": "stream",
     "text": [
      "1 0.5895953757225434\n"
     ]
    }
   ],
   "source": [
    "for i in range(len(test_acc2)):\n",
    "    if (test_acc2[i]>original_accuracy2):\n",
    "        print (i+1,test_acc2[i])\n",
    "        break"
   ]
  },
  {
   "cell_type": "code",
   "execution_count": 116,
   "metadata": {},
   "outputs": [
    {
     "data": {
      "text/plain": [
       "Text(0.5, 1.0, 'Depth Vs Accuracy\\nOriginal accuracy:0.57803')"
      ]
     },
     "execution_count": 116,
     "metadata": {},
     "output_type": "execute_result"
    },
    {
     "data": {
      "image/png": "[encoded data removed]",
      "text/plain": [
       "<Figure size 432x288 with 1 Axes>"
      ]
     },
     "metadata": {
      "needs_background": "light"
     },
     "output_type": "display_data"
    }
   ],
   "source": [
    "plt.plot(test_acc2)\n",
    "plt.ylabel('Accuracy')\n",
    "plt.xlabel('depth')\n",
    "plt.title('Depth Vs Accuracy'+'\\n'+'Original accuracy:{}'.format(round(original_accuracy2,5)))"
   ]
  },
  {
   "cell_type": "markdown",
   "metadata": {},
   "source": [
    "# K-fold Cross Validation"
   ]
  },
  {
   "cell_type": "markdown",
   "metadata": {},
   "source": [
    "## Dataset- Runtime"
   ]
  },
  {
   "cell_type": "code",
   "execution_count": 4,
   "metadata": {},
   "outputs": [],
   "source": [
    "scaler = MinMaxScaler(feature_range=(-1, 1))\n",
    "X_c = scaler.fit_transform(X_c)\n",
    "Y_c=Y_c"
   ]
  },
  {
   "cell_type": "markdown",
   "metadata": {},
   "source": [
    "## SVM"
   ]
  },
  {
   "cell_type": "markdown",
   "metadata": {},
   "source": [
    "## RBF or Gaussian"
   ]
  },
  {
   "cell_type": "code",
   "execution_count": 129,
   "metadata": {},
   "outputs": [
    {
     "name": "stdout",
     "output_type": "stream",
     "text": [
      "In-sampling accuracies: [0.7101407284768212, 0.9229304635761589, 0.8612996688741722, 0.8722682119205298, 0.9228062913907285, 0.9435016556291391, 0.8299668874172186, 0.9901903973509933, 0.9833195364238411, 0.9070364238410596]\n",
      "Out-sampling accuracies: [0.9608903605592347, 0.9500965783664459, 0.9548151214128036, 0.9507772259013981, 0.9477511037527594, 0.9480086460632818, 0.9549438925680648, 0.9453688373804268, 0.9450193156732892, 0.9443294701986755]\n",
      "Average accuracy In-sampling: 0.8943460264900661\n",
      "Average accuracy Out-sampling: 0.950200055187638\n"
     ]
    }
   ],
   "source": [
    "svc=SVC()\n",
    "scores_in = []\n",
    "scores_out=[]\n",
    "cv = KFold(n_splits=10, random_state=100, shuffle=False)\n",
    "for train_index, test_index in cv.split(X_c):\n",
    "#     print(\"Train Index: \", train_index, \"\\n\")\n",
    "#     print(\"Test Index: \", test_index)\n",
    "\n",
    "    X_train, X_test, y_train, y_test = X_c[train_index], X_c[test_index], Y_c[train_index], Y_c[test_index]\n",
    "    svc.fit(X_train, y_train)\n",
    "    #y_pred_train2 = svc.predict(x_train2)\n",
    "    y_pred_train2 = svc.predict(X_train)\n",
    "    y_pred_test2 = svc.predict(X_test)\n",
    "    scores_in.append(metrics.accuracy_score(y_pred_test2, y_test))\n",
    "    scores_out.append(metrics.accuracy_score(y_pred_train2, y_train))\n",
    "print(\"In-sampling accuracies:\" ,scores_in)\n",
    "print(\"Out-sampling accuracies:\" ,scores_out)\n",
    "print(\"Average accuracy In-sampling:\", sum(scores_in)/len(scores_in))\n",
    "print(\"Average accuracy Out-sampling:\", sum(scores_out)/len(scores_out))"
   ]
  },
  {
   "cell_type": "markdown",
   "metadata": {},
   "source": [
    "## Linear"
   ]
  },
  {
   "cell_type": "code",
   "execution_count": 33,
   "metadata": {},
   "outputs": [
    {
     "name": "stdout",
     "output_type": "stream",
     "text": [
      "In-sampling accuracies: [0.7589713661310751, 0.7746762196863397, 0.88695317447506]\n",
      "Out-sampling accuracies: [0.8748960053642606, 0.8100852440288824, 0.7925894193099766]\n",
      "Average accuracy In-sampling: 0.8068669200974915\n",
      "Average accuracy Out-sampling: 0.8258568895677065\n"
     ]
    }
   ],
   "source": [
    "svc=SVC(kernel = 'linear')\n",
    "scores_in = []\n",
    "scores_out=[]\n",
    "cv = KFold(n_splits=10, random_state=100, shuffle=False)\n",
    "for train_index, test_index in cv.split(X_c):\n",
    "#     print(\"Train Index: \", train_index, \"\\n\")\n",
    "#     print(\"Test Index: \", test_index)\n",
    "\n",
    "    X_train, X_test, y_train, y_test = X_c[train_index], X_c[test_index], Y_c[train_index], Y_c[test_index]\n",
    "    svc.fit(X_train, y_train)\n",
    "    #y_pred_train2 = svc.predict(x_train2)\n",
    "    y_pred_train2 = svc.predict(X_train)\n",
    "    y_pred_test2 = svc.predict(X_test)\n",
    "    scores_in.append(metrics.accuracy_score(y_pred_test2, y_test))\n",
    "    scores_out.append(metrics.accuracy_score(y_pred_train2, y_train))\n",
    "print(\"In-sampling accuracies:\" ,scores_in)\n",
    "print(\"Out-sampling accuracies:\" ,scores_out)\n",
    "print(\"Average accuracy In-sampling:\", sum(scores_in)/len(scores_in))\n",
    "print(\"Average accuracy Out-sampling:\", sum(scores_out)/len(scores_out))"
   ]
  },
  {
   "cell_type": "markdown",
   "metadata": {},
   "source": [
    "## Polynomial"
   ]
  },
  {
   "cell_type": "code",
   "execution_count": 5,
   "metadata": {},
   "outputs": [
    {
     "name": "stdout",
     "output_type": "stream",
     "text": [
      "In-sampling accuracies: [0.9621583698608024, 0.935697566851062, 0.9224608392780644]\n",
      "Out-sampling accuracies: [0.7672784165693992, 0.8640805632473645, 0.8200116722337427]\n",
      "Average accuracy In-sampling: 0.9401055919966429\n",
      "Average accuracy Out-sampling: 0.8171235506835023\n"
     ]
    }
   ],
   "source": [
    "svc=SVC(kernel = 'poly')\n",
    "scores_in = []\n",
    "scores_out=[]\n",
    "cv = KFold(n_splits=10, random_state=100, shuffle=False)\n",
    "for train_index, test_index in cv.split(X_c):\n",
    "#     print(\"Train Index: \", train_index, \"\\n\")\n",
    "#     print(\"Test Index: \", test_index)\n",
    "\n",
    "    X_train, X_test, y_train, y_test = X_c[train_index], X_c[test_index], Y_c[train_index], Y_c[test_index]\n",
    "    svc.fit(X_train, y_train)\n",
    "    #y_pred_train2 = svc.predict(x_train2)\n",
    "    y_pred_train2 = svc.predict(X_train)\n",
    "    y_pred_test2 = svc.predict(X_test)\n",
    "    scores_out.append(metrics.accuracy_score(y_pred_test2, y_test))\n",
    "    scores_in.append(metrics.accuracy_score(y_pred_train2, y_train))\n",
    "print(\"In-sampling accuracies:\" ,scores_in)\n",
    "print(\"Out-sampling accuracies:\" ,scores_out)\n",
    "print(\"Average accuracy In-sampling:\", sum(scores_in)/len(scores_in))\n",
    "print(\"Average accuracy Out-sampling:\", sum(scores_out)/len(scores_out))"
   ]
  },
  {
   "cell_type": "markdown",
   "metadata": {},
   "source": [
    "# Decison Trees and Pruning"
   ]
  },
  {
   "cell_type": "code",
   "execution_count": 30,
   "metadata": {},
   "outputs": [
    {
     "name": "stdout",
     "output_type": "stream",
     "text": [
      "In-sampling accuracies: [1.0, 1.0, 1.0, 1.0, 1.0, 1.0, 1.0, 1.0, 1.0, 1.0]\n",
      "Out-sampling accuracies: [0.7372930463576159, 0.756705298013245, 0.7248758278145695, 0.8355960264900663, 0.6917218543046357, 0.8457781456953642, 0.7118377483443709, 0.6260761589403974, 0.8428807947019867, 0.9956953642384105]\n",
      "Average accuracy In-sampling: 1.0\n",
      "Average accuracy Out-sampling: 0.7768460264900663\n"
     ]
    }
   ],
   "source": [
    "clf = DecisionTreeClassifier()\n",
    "scores_in = []\n",
    "scores_out=[]\n",
    "cv = KFold(n_splits=10, random_state=100, shuffle=False)\n",
    "for train_index, test_index in cv.split(X_c):\n",
    "#     print(\"Train Index: \", train_index, \"\\n\")\n",
    "#     print(\"Test Index: \", test_index)\n",
    "\n",
    "    X_train, X_test, y_train, y_test = X_c[train_index], X_c[test_index], Y_c[train_index], Y_c[test_index]\n",
    "    clf.fit(X_train, y_train)\n",
    "    #y_pred_train2 = svc.predict(x_train2)\n",
    "    y_pred_train2 = clf.predict(X_train)\n",
    "    y_pred_test2 = clf.predict(X_test)\n",
    "    scores_out.append(metrics.accuracy_score(y_pred_test2, y_test))\n",
    "    scores_in.append(metrics.accuracy_score(y_pred_train2, y_train))\n",
    "print(\"In-sampling accuracies:\" ,scores_in)\n",
    "print(\"Out-sampling accuracies:\" ,scores_out)\n",
    "print(\"Average accuracy In-sampling:\", sum(scores_in)/len(scores_in))\n",
    "print(\"Average accuracy Out-sampling:\", sum(scores_out)/len(scores_out))"
   ]
  },
  {
   "cell_type": "markdown",
   "metadata": {},
   "source": [
    "### As we found the depth=18 to be the best while pruning, following is the k-fold CV with k=10 to see the optimized depth with K-fold CV"
   ]
  },
  {
   "cell_type": "code",
   "execution_count": 31,
   "metadata": {},
   "outputs": [
    {
     "name": "stdout",
     "output_type": "stream",
     "text": [
      "In-sampling accuracy :  [0.9984878587196467]\n",
      "Out-sampling accuracy :  [0.7625372516556291]\n"
     ]
    }
   ],
   "source": [
    "depth_scores_in=[]\n",
    "depth_scores_out=[]\n",
    "for i in range(18,19):\n",
    "    scores_in = []\n",
    "    scores_out= []\n",
    "    clf = DecisionTreeClassifier(max_depth=i,criterion='entropy')\n",
    "    cv = KFold(n_splits=10, random_state=100, shuffle=False)\n",
    "    for train_index, test_index in cv.split(X_c):\n",
    "    #     print(\"Train Index: \", train_index, \"\\n\")\n",
    "    #     print(\"Test Index: \", test_index)\n",
    "\n",
    "        X_train, X_test, y_train, y_test = X_c[train_index], X_c[test_index], Y_c[train_index], Y_c[test_index]\n",
    "        clf.fit(X_train, y_train)\n",
    "        y_pred_train2 = clf.predict(X_train)\n",
    "        y_pred_test2 = clf.predict(X_test)\n",
    "        scores_out.append(metrics.accuracy_score(y_pred_test2, y_test))\n",
    "        scores_in.append(metrics.accuracy_score(y_pred_train2, y_train))\n",
    "    depth_scores_in.append(sum(scores_in)/len(scores_in))\n",
    "    depth_scores_out.append(sum(scores_out)/len(scores_out))\n",
    "#print(scores)\n",
    "print(\"In-sampling accuracy : \",depth_scores_in)\n",
    "print(\"Out-sampling accuracy : \",depth_scores_out)"
   ]
  },
  {
   "cell_type": "markdown",
   "metadata": {},
   "source": [
    "## Boosting"
   ]
  },
  {
   "cell_type": "code",
   "execution_count": 125,
   "metadata": {},
   "outputs": [
    {
     "name": "stdout",
     "output_type": "stream",
     "text": [
      "[0.7372930463576159, 0.756705298013245, 0.7250413907284768, 0.8355960264900663, 0.6917218543046357, 0.8457781456953642, 0.7118377483443709, 0.6267384105960265, 0.8428807947019867, 0.9956953642384105]\n",
      "Average accuracy: 0.7769288079470198\n"
     ]
    }
   ],
   "source": [
    "clfb = AdaBoostClassifier(DecisionTreeClassifier())\n",
    "scores_in = []\n",
    "scores_out=[]\n",
    "cv = KFold(n_splits=10, random_state=100, shuffle=False)\n",
    "for train_index, test_index in cv.split(X_c):\n",
    "#     print(\"Train Index: \", train_index, \"\\n\")\n",
    "#     print(\"Test Index: \", test_index)\n",
    "\n",
    "    X_train, X_test, y_train, y_test = X_c[train_index], X_c[test_index], Y_c[train_index], Y_c[test_index]\n",
    "    clfb.fit(X_train, y_train)\n",
    "    y_pred_train2 = clfb.predict(X_train)\n",
    "    y_pred_test2 = clfb.predict(X_test)\n",
    "    scores_in.append(metrics.accuracy_score(y_pred_test2, y_train))\n",
    "    scores_out.append(metrics.accuracy_score(y_pred_test2, y_test))\n",
    "print(\"Accuracy- In-sampling: \",scores_in)\n",
    "print(\"Accuracy- Out-sampling: \",scores_out)\n",
    "print(\"Average accuracy for In-sampling :\", sum(scores_in)/len(scores_in))\n",
    "print(\"Average accuracy for Out-sampling:\", sum(scores_out)/len(scores_out))"
   ]
  },
  {
   "cell_type": "markdown",
   "metadata": {},
   "source": [
    "### As we found the depth=15 to be the best while pruning with boosting, following is the k-fold CV with k=10 to see the optimized depth with K-fold CV"
   ]
  },
  {
   "cell_type": "code",
   "execution_count": 126,
   "metadata": {},
   "outputs": [
    {
     "name": "stdout",
     "output_type": "stream",
     "text": [
      "[0.7460389072847681, 0.8127690397350993, 0.8328187086092715, 0.7784105960264901, 0.8056870860927152, 0.7976986754966887, 0.794793046357616, 0.7886961920529801, 0.7981663907284767, 0.7807947019867549, 0.7799048013245033, 0.7761051324503311, 0.7852938741721854, 0.7654304635761588, 0.7648799668874171, 0.7667301324503311, 0.7662334437086092, 0.7766100993377483, 0.7754842715231789, 0.7651531456953643, 0.7731663907284769, 0.7637210264900662, 0.7625620860927153, 0.7770778145695365, 0.7625951986754967, 0.7626076158940398, 0.7770488410596026, 0.7770529801324504, 0.7625248344370862]\n"
     ]
    }
   ],
   "source": [
    "depth_scores_in=[]\n",
    "depth_scores_out=[]\n",
    "for i in range(15,16):\n",
    "    scores = []\n",
    "    clf = AdaBoostClassifier(DecisionTreeClassifier(max_depth=i,criterion='entropy'))\n",
    "    cv = KFold(n_splits=10, random_state=100, shuffle=False)\n",
    "    for train_index, test_index in cv.split(X_c):\n",
    "    #     print(\"Train Index: \", train_index, \"\\n\")\n",
    "    #     print(\"Test Index: \", test_index)\n",
    "\n",
    "        X_train, X_test, y_train, y_test = X_c[train_index], X_c[test_index], Y_c[train_index], Y_c[test_index]\n",
    "        clf.fit(X_train, y_train)\n",
    "        y_pred_train2 = clf.predict(X_train)\n",
    "        y_pred_test2 = clf.predict(X_test)\n",
    "        scores_out.append(metrics.accuracy_score(y_pred_test2, y_test))\n",
    "        scores_in.append(metrics.accuracy_score(y_pred_train2, y_test))\n",
    "    depth_scores_in.append(sum(scores_in)/len(scores_in))\n",
    "    depth_scores_out.append(sum(scores_out)/len(scores_out))\n",
    "#print(scores)\n",
    "print(\"Accuracy for In-sampling: \",depth_scores_in)\n",
    "print(\"Accuracy for Out-sampling: \"depth_scores_out)"
   ]
  },
  {
   "cell_type": "markdown",
   "metadata": {},
   "source": [
    "## Dataset- Diabetic Retinopathy"
   ]
  },
  {
   "cell_type": "markdown",
   "metadata": {},
   "source": [
    "# SVM"
   ]
  },
  {
   "cell_type": "code",
   "execution_count": 6,
   "metadata": {},
   "outputs": [],
   "source": [
    "X2_c=data_med.iloc[:, 0:19]\n",
    "Y2_c=data_med.iloc[:,-1]"
   ]
  },
  {
   "cell_type": "code",
   "execution_count": 7,
   "metadata": {},
   "outputs": [],
   "source": [
    "scaler = MinMaxScaler(feature_range=(-1, 1))\n",
    "X2_c = scaler.fit_transform(X2_c)"
   ]
  },
  {
   "cell_type": "markdown",
   "metadata": {},
   "source": [
    "## RBF"
   ]
  },
  {
   "cell_type": "code",
   "execution_count": 8,
   "metadata": {},
   "outputs": [
    {
     "name": "stdout",
     "output_type": "stream",
     "text": [
      "In-sampling accuracies: [0.646551724137931, 0.7043478260869566, 0.6869565217391305, 0.5826086956521739, 0.6260869565217392, 0.6956521739130435, 0.5565217391304348, 0.6608695652173913, 0.6173913043478261, 0.6695652173913044]\n",
      "Out-sampling accuracies: [0.6647342995169082, 0.6573359073359073, 0.6496138996138996, 0.666988416988417, 0.6563706563706564, 0.6515444015444015, 0.667953667953668, 0.6640926640926641, 0.665057915057915, 0.6583011583011583]\n",
      "Average accuracy In-sampling: 0.644655172413793\n",
      "Average accuracy Out-sampling: 0.6601992986775596\n"
     ]
    }
   ],
   "source": [
    "svc=SVC()\n",
    "scores_in = []\n",
    "scores_out=[]\n",
    "cv = KFold(n_splits=10, random_state=100, shuffle=False)\n",
    "for train_index, test_index in cv.split(X2_c):\n",
    "#     print(\"Train Index: \", train_index, \"\\n\")\n",
    "#     print(\"Test Index: \", test_index)\n",
    "\n",
    "    X_train, X_test, y_train, y_test = X2_c[train_index], X2_c[test_index], Y2_c[train_index], Y2_c[test_index]\n",
    "    svc.fit(X_train, y_train)\n",
    "    #y_pred_train2 = svc.predict(x_train2)\n",
    "    y_pred_train2 = svc.predict(X_train)\n",
    "    y_pred_test2 = svc.predict(X_test)\n",
    "    scores_in.append(metrics.accuracy_score(y_pred_test2, y_test))\n",
    "    scores_out.append(metrics.accuracy_score(y_pred_train2, y_train))\n",
    "print(\"In-sampling accuracies:\" ,scores_in)\n",
    "print(\"Out-sampling accuracies:\" ,scores_out)\n",
    "print(\"Average accuracy In-sampling:\", sum(scores_in)/len(scores_in))\n",
    "print(\"Average accuracy Out-sampling:\", sum(scores_out)/len(scores_out))"
   ]
  },
  {
   "cell_type": "markdown",
   "metadata": {},
   "source": [
    "## Linear"
   ]
  },
  {
   "cell_type": "code",
   "execution_count": 9,
   "metadata": {},
   "outputs": [
    {
     "name": "stdout",
     "output_type": "stream",
     "text": [
      "In-sampling accuracies: [0.7068965517241379, 0.6695652173913044, 0.7130434782608696, 0.6, 0.7565217391304347, 0.7391304347826086, 0.7043478260869566, 0.6782608695652174, 0.6173913043478261, 0.7478260869565218]\n",
      "Out-sampling accuracies: [0.6985507246376812, 0.6959459459459459, 0.7065637065637066, 0.7036679536679536, 0.7055984555984556, 0.6959459459459459, 0.6978764478764479, 0.7094594594594594, 0.7007722007722008, 0.6998069498069498]\n",
      "Average accuracy In-sampling: 0.6932983508245878\n",
      "Average accuracy Out-sampling: 0.7014187790274746\n"
     ]
    }
   ],
   "source": [
    "svc=SVC(kernel = 'linear')\n",
    "scores_in = []\n",
    "scores_out=[]\n",
    "cv = KFold(n_splits=10, random_state=100, shuffle=False)\n",
    "for train_index, test_index in cv.split(X2_c):\n",
    "#     print(\"Train Index: \", train_index, \"\\n\")\n",
    "#     print(\"Test Index: \", test_index)\n",
    "\n",
    "    X_train, X_test, y_train, y_test = X2_c[train_index], X2_c[test_index], Y2_c[train_index], Y2_c[test_index]\n",
    "    svc.fit(X_train, y_train)\n",
    "    #y_pred_train2 = svc.predict(x_train2)\n",
    "    y_pred_train2 = svc.predict(X_train)\n",
    "    y_pred_test2 = svc.predict(X_test)\n",
    "    scores_in.append(metrics.accuracy_score(y_pred_test2, y_test))\n",
    "    scores_out.append(metrics.accuracy_score(y_pred_train2, y_train))\n",
    "print(\"In-sampling accuracies:\" ,scores_in)\n",
    "print(\"Out-sampling accuracies:\" ,scores_out)\n",
    "print(\"Average accuracy In-sampling:\", sum(scores_in)/len(scores_in))\n",
    "print(\"Average accuracy Out-sampling:\", sum(scores_out)/len(scores_out))"
   ]
  },
  {
   "cell_type": "markdown",
   "metadata": {},
   "source": [
    "## Polynomial"
   ]
  },
  {
   "cell_type": "code",
   "execution_count": 10,
   "metadata": {},
   "outputs": [
    {
     "name": "stdout",
     "output_type": "stream",
     "text": [
      "In-sampling accuracies: [0.6293103448275862, 0.6521739130434783, 0.6782608695652174, 0.5652173913043478, 0.591304347826087, 0.6608695652173913, 0.5391304347826087, 0.6347826086956522, 0.6173913043478261, 0.6173913043478261]\n",
      "Out-sampling accuracies: [0.6367149758454106, 0.6235521235521235, 0.6254826254826255, 0.638030888030888, 0.6283783783783784, 0.6332046332046332, 0.6351351351351351, 0.6274131274131274, 0.6351351351351351, 0.6264478764478765]\n",
      "Average accuracy In-sampling: 0.618583208395802\n",
      "Average accuracy Out-sampling: 0.6309494898625333\n"
     ]
    }
   ],
   "source": [
    "svc=SVC(kernel = 'poly')\n",
    "scores_in = []\n",
    "scores_out=[]\n",
    "cv = KFold(n_splits=10, random_state=100, shuffle=False)\n",
    "for train_index, test_index in cv.split(X2_c):\n",
    "#     print(\"Train Index: \", train_index, \"\\n\")\n",
    "#     print(\"Test Index: \", test_index)\n",
    "\n",
    "    X_train, X_test, y_train, y_test = X2_c[train_index], X2_c[test_index], Y2_c[train_index], Y2_c[test_index]\n",
    "    svc.fit(X_train, y_train)\n",
    "    #y_pred_train2 = svc.predict(x_train2)\n",
    "    y_pred_train2 = svc.predict(X_train)\n",
    "    y_pred_test2 = svc.predict(X_test)\n",
    "    scores_in.append(metrics.accuracy_score(y_pred_test2, y_test))\n",
    "    scores_out.append(metrics.accuracy_score(y_pred_train2, y_train))\n",
    "print(\"In-sampling accuracies:\" ,scores_in)\n",
    "print(\"Out-sampling accuracies:\" ,scores_out)\n",
    "print(\"Average accuracy In-sampling:\", sum(scores_in)/len(scores_in))\n",
    "print(\"Average accuracy Out-sampling:\", sum(scores_out)/len(scores_out))"
   ]
  },
  {
   "cell_type": "markdown",
   "metadata": {},
   "source": [
    "## Decision Trees and Pruning"
   ]
  },
  {
   "cell_type": "code",
   "execution_count": 11,
   "metadata": {},
   "outputs": [
    {
     "name": "stdout",
     "output_type": "stream",
     "text": [
      "In-sampling accuracies: [1.0, 1.0, 1.0, 1.0, 1.0, 1.0, 1.0, 1.0, 1.0, 1.0]\n",
      "Out-sampling accuracies: [0.6120689655172413, 0.6173913043478261, 0.5652173913043478, 0.7217391304347827, 0.6869565217391305, 0.6173913043478261, 0.5652173913043478, 0.6260869565217392, 0.6173913043478261, 0.5478260869565217]\n",
      "Average accuracy In-sampling: 1.0\n",
      "Average accuracy Out-sampling: 0.6177286356821589\n"
     ]
    }
   ],
   "source": [
    "clf = DecisionTreeClassifier()\n",
    "scores_in = []\n",
    "scores_out=[]\n",
    "cv = KFold(n_splits=10, random_state=100, shuffle=False)\n",
    "for train_index, test_index in cv.split(X2_c):\n",
    "#     print(\"Train Index: \", train_index, \"\\n\")\n",
    "#     print(\"Test Index: \", test_index)\n",
    "\n",
    "    X_train, X_test, y_train, y_test = X2_c[train_index], X2_c[test_index], Y2_c[train_index], Y2_c[test_index]\n",
    "    clf.fit(X_train, y_train)\n",
    "    #y_pred_train2 = svc.predict(x_train2)\n",
    "    y_pred_train2 = clf.predict(X_train)\n",
    "    y_pred_test2 = clf.predict(X_test)\n",
    "    scores_out.append(metrics.accuracy_score(y_pred_test2, y_test))\n",
    "    scores_in.append(metrics.accuracy_score(y_pred_train2, y_train))\n",
    "print(\"In-sampling accuracies:\" ,scores_in)\n",
    "print(\"Out-sampling accuracies:\" ,scores_out)\n",
    "print(\"Average accuracy In-sampling:\", sum(scores_in)/len(scores_in))\n",
    "print(\"Average accuracy Out-sampling:\", sum(scores_out)/len(scores_out))"
   ]
  },
  {
   "cell_type": "markdown",
   "metadata": {},
   "source": [
    "### As we found the depth=12 to be the best while pruning, following is the k-fold CV with k=10 to see the optimized depth with K-fold CV"
   ]
  },
  {
   "cell_type": "code",
   "execution_count": 12,
   "metadata": {},
   "outputs": [
    {
     "name": "stdout",
     "output_type": "stream",
     "text": [
      "In-sampling accuracy :  [0.8754693824259043]\n",
      "Out-sampling accuracy :  [0.6342053973013495]\n"
     ]
    }
   ],
   "source": [
    "depth_scores_in=[]\n",
    "depth_scores_out=[]\n",
    "for i in range(12,13):\n",
    "    scores_in = []\n",
    "    scores_out= []\n",
    "    clf = DecisionTreeClassifier(max_depth=i,criterion='entropy')\n",
    "    cv = KFold(n_splits=10, random_state=100, shuffle=False)\n",
    "    for train_index, test_index in cv.split(X2_c):\n",
    "    #     print(\"Train Index: \", train_index, \"\\n\")\n",
    "    #     print(\"Test Index: \", test_index)\n",
    "\n",
    "        X_train, X_test, y_train, y_test = X2_c[train_index], X2_c[test_index], Y2_c[train_index], Y2_c[test_index]\n",
    "        clf.fit(X_train, y_train)\n",
    "        y_pred_train2 = clf.predict(X_train)\n",
    "        y_pred_test2 = clf.predict(X_test)\n",
    "        scores_out.append(metrics.accuracy_score(y_pred_test2, y_test))\n",
    "        scores_in.append(metrics.accuracy_score(y_pred_train2, y_train))\n",
    "    depth_scores_in.append(sum(scores_in)/len(scores_in))\n",
    "    depth_scores_out.append(sum(scores_out)/len(scores_out))\n",
    "#print(scores)\n",
    "print(\"In-sampling accuracy : \",depth_scores_in)\n",
    "print(\"Out-sampling accuracy : \",depth_scores_out)"
   ]
  },
  {
   "cell_type": "markdown",
   "metadata": {},
   "source": [
    "## Boosting"
   ]
  },
  {
   "cell_type": "code",
   "execution_count": 23,
   "metadata": {},
   "outputs": [
    {
     "name": "stdout",
     "output_type": "stream",
     "text": [
      "Accuracy- In-sampling:  [1.0, 1.0, 1.0, 1.0, 1.0, 1.0, 1.0, 1.0, 1.0, 1.0]\n",
      "Accuracy- Out-sampling:  [0.5948275862068966, 0.6173913043478261, 0.5565217391304348, 0.7130434782608696, 0.6434782608695652, 0.6434782608695652, 0.5826086956521739, 0.6260869565217392, 0.6086956521739131, 0.5130434782608696]\n",
      "Average accuracy for In-sampling : 1.0\n",
      "Average accuracy for Out-sampling: 0.6099175412293854\n"
     ]
    }
   ],
   "source": [
    "clfb = AdaBoostClassifier(DecisionTreeClassifier())\n",
    "scores_in = []\n",
    "scores_out=[]\n",
    "cv = KFold(n_splits=10, random_state=100, shuffle=False)\n",
    "for train_index, test_index in cv.split(X2_c):\n",
    "#     print(\"Train Index: \", train_index, \"\\n\")\n",
    "#     print(\"Test Index: \", test_index)\n",
    "\n",
    "    X_train, X_test, y_train, y_test = X2_c[train_index], X2_c[test_index], Y2_c[train_index], Y2_c[test_index]\n",
    "    clfb.fit(X_train, y_train)\n",
    "    y_pred_train2 = clfb.predict(X_train)\n",
    "    y_pred_test2 = clfb.predict(X_test)\n",
    "    scores_in.append(metrics.accuracy_score(y_pred_train2, y_train))\n",
    "    scores_out.append(metrics.accuracy_score(y_pred_test2, y_test))\n",
    "print(\"Accuracy- In-sampling: \",scores_in)\n",
    "print(\"Accuracy- Out-sampling: \",scores_out)\n",
    "print(\"Average accuracy for In-sampling :\", sum(scores_in)/len(scores_in))\n",
    "print(\"Average accuracy for Out-sampling:\", sum(scores_out)/len(scores_out))"
   ]
  },
  {
   "cell_type": "markdown",
   "metadata": {},
   "source": [
    "### As we found the depth=2 to be the best while pruning with boosting, following is the k-fold CV with k=10 to see the optimized depth with K-fold CV"
   ]
  },
  {
   "cell_type": "code",
   "execution_count": 24,
   "metadata": {},
   "outputs": [
    {
     "name": "stdout",
     "output_type": "stream",
     "text": [
      "Accuracy for In-sampling:  [0.9570911905694516]\n",
      "Accuracy for Out-sampling:  [0.6399025487256372]\n"
     ]
    }
   ],
   "source": [
    "depth_scores_in=[]\n",
    "depth_scores_out=[]\n",
    "for i in range(2,3):\n",
    "    scores = []\n",
    "    clf = AdaBoostClassifier(DecisionTreeClassifier(max_depth=i,criterion='entropy'))\n",
    "    cv = KFold(n_splits=10, random_state=100, shuffle=False)\n",
    "    for train_index, test_index in cv.split(X2_c):\n",
    "    #     print(\"Train Index: \", train_index, \"\\n\")\n",
    "    #     print(\"Test Index: \", test_index)\n",
    "\n",
    "        X_train, X_test, y_train, y_test = X2_c[train_index], X2_c[test_index], Y2_c[train_index], Y2_c[test_index]\n",
    "        clf.fit(X_train, y_train)\n",
    "        y_pred_train2 = clf.predict(X_train)\n",
    "        y_pred_test2 = clf.predict(X_test)\n",
    "        scores_out.append(metrics.accuracy_score(y_pred_test2, y_test))\n",
    "        scores_in.append(metrics.accuracy_score(y_pred_train2, y_train))\n",
    "    depth_scores_in.append(sum(scores_in)/len(scores_in))\n",
    "    depth_scores_out.append(sum(scores_out)/len(scores_out))\n",
    "#print(scores)\n",
    "print(\"Accuracy for In-sampling: \",depth_scores_in)\n",
    "print(\"Accuracy for Out-sampling: \",depth_scores_out)"
   ]
  }
 ],
 "metadata": {
  "kernelspec": {
   "display_name": "Python 3",
   "language": "python",
   "name": "python3"
  },
  "language_info": {
   "codemirror_mode": {
    "name": "ipython",
    "version": 3
   },
   "file_extension": ".py",
   "mimetype": "text/x-python",
   "name": "python",
   "nbconvert_exporter": "python",
   "pygments_lexer": "ipython3",
   "version": "3.7.3"
  }
 },
 "nbformat": 4,
 "nbformat_minor": 2
}
